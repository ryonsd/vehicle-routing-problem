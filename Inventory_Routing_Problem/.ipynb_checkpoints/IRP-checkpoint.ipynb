{
 "cells": [
  {
   "cell_type": "markdown",
   "metadata": {},
   "source": [
    "**在庫配送最適化問題 (Inventory  Routing Problem: IRP)**  \n",
    "  \n",
    "下の二つの問題を統合したもの  \n",
    "* 在庫計画問題：在庫・品切れコストを最小化する配送日・配送量を求める問題  \n",
    "* 配送計画問題：配送者の総稼働時間を最小化する配送日・配送経路を求める問題  \n",
    "\n",
    "（在庫コストとは？）  \n",
    "ある期間中に在庫を保持しておくのに必要となるコスト  \n",
    "例えば，場所代，管理費など．コストは在庫保有率が高くなるほど高くなる  \n",
    "  \n",
    "⇒ 必要な量だけ在庫にあれば良く，いつ・どれくらい配送すれば良いかを適切に決める必要がある"
   ]
  },
  {
   "cell_type": "markdown",
   "metadata": {},
   "source": [
    "# [Soysal, 2015] Modeling an Inventory Routing Problem for perishable products with environmental considerations and demand uncertainty\n"
   ]
  },
  {
   "cell_type": "markdown",
   "metadata": {},
   "source": [
    "通常のIRPに加えて以下を考慮  \n",
    "* 多期間  \n",
    "* 腐りやすい商品  \n",
    "* 環境（CO2排出量，燃料消費量）  \n",
    "* 需要の不確実性（制約条件が確率的⇒確率制約計画問題）  \n",
    "  \n",
    "問題  \n",
    "「在庫・破棄・燃料・ドライバーのコストを最小化するような各期間での経路と出荷量を求める」\n",
    "\n",
    "\n",
    "sensitivity analysis（以下の要素を変えて最適値を分析）  \n",
    "* デマンド：base, demand1, demand2  \n",
    "* C=0.1(base), 0.05, 0.15, 0.2  \n",
    "* 貯蔵寿命：m=2(base), 3, 4  \n",
    "* 在庫保有コスト(€/kg)：h=0.06(base), 0.03, 0.09, 0.12  \n",
    "* サービスレベル（デマンドに対する達成度）(%)：a=95(base), 90, 92.5, 97.5  \n",
    "* 燃料(€/L)：l=1.7(base), 1.2, 2,2\n",
    "* 車両速度(km/h)：f=80(base), 40, 120"
   ]
  },
  {
   "cell_type": "markdown",
   "metadata": {},
   "source": [
    "# 実装"
   ]
  },
  {
   "cell_type": "code",
   "execution_count": 1,
   "metadata": {},
   "outputs": [],
   "source": [
    "import numpy as np\n",
    "import math\n",
    "import scipy as sp\n",
    "from scipy import stats\n",
    "import pulp\n",
    "import time"
   ]
  },
  {
   "cell_type": "markdown",
   "metadata": {},
   "source": [
    "## 定数・変数の定義"
   ]
  },
  {
   "cell_type": "code",
   "execution_count": 90,
   "metadata": {},
   "outputs": [],
   "source": [
    "# V = 12 # ノード数(0:depot, 1~11:customer)\n",
    "# K = 7  # 車両数 \n",
    "# T = 4  # 期間\n",
    "\n",
    "V = 5 # ノード数(0:depot, 1~11:customer)\n",
    "K = 4  # 車両数 \n",
    "T = 2  # 期間\n",
    "\n",
    "range_i = range(V)\n",
    "range_j = range(V)\n",
    "range_i_ = range(1,V)\n",
    "range_j_ = range(1,V)\n",
    "range_k = range(1,K+1)\n",
    "range_t = range(1,T+1)"
   ]
  },
  {
   "cell_type": "code",
   "execution_count": 91,
   "metadata": {},
   "outputs": [],
   "source": [
    "### Parameter \n",
    "# Table 4\n",
    "xi = 1        # 燃料対空気質量比 ξ\n",
    "kappa = 44    # 燃料の発熱量 κ\n",
    "psi = 737     # 単位変換 Ψ \n",
    "k_e = 0.2     # エンジン摩擦率\n",
    "N_e = 33      # エンジン速度\n",
    "V_e = 5       # エンジン変位\n",
    "rho = 1.2041  # 空気密度 ρ\n",
    "A_e = 3.912   # 表面積\n",
    "mu = 6350     # カーブ時にかかる重量 μ\n",
    "g = 9.81      # 重力加速度\n",
    "phi = 0       # 道路の角度 Φ\n",
    "C_d = 0.7     # 空気抵抗係数\n",
    "C_r = 0.01    # 回転抵抗係数\n",
    "epsilon = 0.4 # ドライブトレーンの効率 ε\n",
    "varpi = 0.9   # エンジンの効率パラメータ ϖ\n",
    "l = 1.7       # 1Lあたりの燃料費 (€/L)\n",
    "r = 0.003     # ドライバーの一秒あたりの賃金(€/s)\n",
    "\n",
    "# ↓\n",
    "# Table 2\n",
    "lambda_ = xi / (kappa*psi) \n",
    "y = k_e * N_e * V_e\n",
    "gamma = 1 / (1000*epsilon*varpi)\n",
    "beta = 0.5 * C_d * A_e * rho\n",
    "s_ = g * np.sin(phi) + g * C_r * np.cos(phi)\n",
    "\n",
    "# 6.1 Description and data\n",
    "c = 10000     # 車両容量 (10 tonnes = 10000 kg)\n",
    "b = 0.21      # モデルM, M_P での燃料コストの計算に必要なパラメータ (L/km) (4.1参照)\n",
    "u = 2.63      # 燃料換算係数 (kg/L)\n",
    "f = 80        # 車両速度 (km/h)\n",
    "C = 0.1       # 制約(21)\n",
    "alpha = 0.95      # サービスレベル (%)\n",
    "h = 0.06      # 在庫保有コスト (€/kg)\n",
    "m = 2         # 貯蔵寿命 (week)\n",
    "p = 0.6       # 腐敗コスト (€/kg)\n",
    "\n",
    "# 3.3\n",
    "# 累積確率（下側確率）がαの標準正規ランダム変量\n",
    "Za = stats.norm.ppf(loc=0, scale=1, q=alpha)"
   ]
  },
  {
   "cell_type": "code",
   "execution_count": 92,
   "metadata": {},
   "outputs": [],
   "source": [
    "## demand (4weeks)\n",
    "# demand means \n",
    "# 添字の関係で0を追加．1~4に値を格納\n",
    "d_mu = [\n",
    "    [0,0,0,0,0],\n",
    "    [0,900,400,1000,600],\n",
    "    [0,1400,1200,17,1200],\n",
    "    [0,500,500,1250,600],\n",
    "    [0,1100,2500,500,400],\n",
    "    [0,1050,900,1500,1100],\n",
    "    [0,1200,500,400,1400],\n",
    "    [0,800,700,500,500],\n",
    "    [0,1900,400,300,1300],\n",
    "    [0,800,400,700,1300],\n",
    "    [0,1100,1600,400,300],\n",
    "    [0,2600,3200,2500,3200],\n",
    "]\n",
    "\n",
    "# 制約(21)用に計算\n",
    "right_of_const_21 = np.zeros([V, T+1])\n",
    "for t in range_t:\n",
    "    for i in range_i_:\n",
    "        right_of_const_21[i][t] = sum(d_mu[i][s] for s in range(1, t+1)) + np.sqrt(sum(d_mu[i][s]**2 for s in range(1, t+1)))*C*Za\n",
    "\n",
    "## distance (12*12)\n",
    "a = [\n",
    "    [0,67,89.2,126,78.1,70.6,106,66.3,64.4,156,151,35.5],\n",
    "    [73.2,0,154,191,143,144,141,101,74.3,166,176,61.5],\n",
    "    [70.8,136,0,65.9,62.9,113,158,118,126,218,212,97.2],\n",
    "    [126,192,69.5,0,98.9,171,233,193,182,274,268,153],\n",
    "    [78.4,144,63.2,99.7,0,123,185,145,134,226,220,105],\n",
    "    [70.9,144,105,163,115,0,50.2,58.4,120,155,220,105],\n",
    "    [106,131,161,222,175,50.9,0,41.6,75.3,105,199,84.4],\n",
    "    [66.5,91.2,121,182,135,58.2,40.1,0,35.3,117,159,44.4],\n",
    "    [67.4,74.9,149,185,137,92.7,74.4,34.5,0,92.1,120,34.8],\n",
    "    [158,166,239,276,228,155,106,116,92.4,0,69.6,126],\n",
    "    [150,176,232,268,220,221,192,152,119,70,0,119],\n",
    "    [35,60.3,116,153,105,106,83.6,43.7,30.6,123,118,0]\n",
    "]"
   ]
  },
  {
   "cell_type": "markdown",
   "metadata": {},
   "source": [
    "## 定式化"
   ]
  },
  {
   "cell_type": "code",
   "execution_count": 93,
   "metadata": {},
   "outputs": [],
   "source": [
    "problem = pulp.LpProblem(\"IRP\", pulp.LpMinimize)"
   ]
  },
  {
   "cell_type": "markdown",
   "metadata": {},
   "source": [
    "### 決定変数の定義"
   ]
  },
  {
   "cell_type": "code",
   "execution_count": 94,
   "metadata": {},
   "outputs": [],
   "source": [
    "### decision variables\n",
    "# X <-(11)\n",
    "# Binary variable equal to 1 if vehicle k goes from i to j in period t, and 0 otherwise\n",
    "# 0-1変数（経路）\n",
    "X = pulp.LpVariable.dicts(\"X\", (range_i, range_j, range_k, range_t), cat=\"Binary\")\n",
    "for t in range_t:\n",
    "    for k in range_k:\n",
    "        for j in range_j:\n",
    "            for i in range_i:\n",
    "                if i == j:\n",
    "                    problem += X[i][j][k][t] == 0\n",
    "\n",
    "# F <-(12)\n",
    "# The load on vehicle k which goes from i to j in period t, kg\n",
    "# 積荷量\n",
    "F = pulp.LpVariable.dicts(\"F\", (range_i, range_j, range_k, range_t), lowBound=0)\n",
    "for t in range_t:\n",
    "    for k in range_k:\n",
    "        for j in range_j:\n",
    "            for i in range_i:\n",
    "                if i == j:\n",
    "                    problem += F[i][j][k][t] == 0"
   ]
  },
  {
   "cell_type": "markdown",
   "metadata": {},
   "source": [
    "### 目的関数，制約に必要なデータの定義"
   ]
  },
  {
   "cell_type": "code",
   "execution_count": 95,
   "metadata": {},
   "outputs": [],
   "source": [
    "# I <-(13)\n",
    "# The amount of inventory at customer i at the end of period t, where I_i,0 = 0\n",
    "# 在庫量\n",
    "I = pulp.LpVariable.dicts(\"I\",(range_i_, range_t))\n",
    "\n",
    "# I+ <-(14)\n",
    "# Derived decision variable to calculate positive inventory levels, kg\n",
    "# 在庫量の期待値の制約から求まる値（在庫量）\n",
    "Ip = pulp.LpVariable.dicts(\"Ip\", (range_i_, range_t),lowBound =0)\n",
    "\n",
    "# W <-(14)\n",
    "# The amount of waste at customer i at the end of period t, kg\n",
    "# 腐敗量\n",
    "W = pulp.LpVariable.dicts(\"W\", (range_i_, range_t),lowBound =0)\n",
    "\n",
    "# Q <-(15)\n",
    "# The amount of product delivered by vehicle k to customer i in the beginning of period t, kg\n",
    "# # 顧客が受け取る量\n",
    "Q = pulp.LpVariable.dicts(\"Q\", (range_i_, range_k, range_t) ,lowBound =0)"
   ]
  },
  {
   "cell_type": "markdown",
   "metadata": {},
   "source": [
    "### 目的関数の定義"
   ]
  },
  {
   "cell_type": "code",
   "execution_count": 96,
   "metadata": {},
   "outputs": [],
   "source": [
    "### objective function\n",
    "# (1)\n",
    "inventory_cost = pulp.lpSum(Ip[i][t] * h for i in range_i_ for t in range_t)\n",
    "\n",
    "waste_cost = pulp.lpSum(W[i][t] * p for i in range_i_ for t in range(m,T+1))\n",
    "\n",
    "fuel_cost = pulp.lpSum(lambda_*(y*(a[i][j])*X[i][j][k][t] + gamma*beta*a[i][j]*f**2*X[i][j][k][t]\n",
    "                               + gamma*s_*(mu*X[i][j][k][t]+F[i][j][k][t])*a[i][j]) * l if i != j else 0\n",
    "                          for t in range_t for k in range_k for j in range_j for i in range_i)\n",
    "\n",
    "driver_cost = pulp.lpSum((a[i][j] / f) * X[i][j][k][t] * r if i != j else 0\n",
    "                          for t in range_t for k in range_k for j in range_j for i in range_i)\n",
    "\n",
    "problem += inventory_cost + waste_cost + fuel_cost + driver_cost"
   ]
  },
  {
   "cell_type": "markdown",
   "metadata": {},
   "source": [
    "### 制約の定義"
   ]
  },
  {
   "cell_type": "code",
   "execution_count": 97,
   "metadata": {},
   "outputs": [],
   "source": [
    "### constraints\n",
    "## related to inventory\n",
    "# (2)\n",
    "# 各期間，各顧客の在庫レベルの期待値\n",
    "for t in range_t:\n",
    "    for i in range_i_:\n",
    "        problem += I[i][t] == pulp.lpSum(Q[i][k][s] for s in range(1,t+1) for k in range_k) \\\n",
    "        - pulp.lpSum(d_mu[i][s] + W[i][s] for s in range(1,t))\n",
    "        \n",
    "# (3)\n",
    "# 目的関数の在庫コストの計算に使用される変数Ipの定義\n",
    "for t in range_t:\n",
    "    for i in range_i_:\n",
    "        problem += Ip[i][t] >= I[i][t]\n",
    "\n",
    "# (4), (5)\n",
    "# 各期間，各顧客での腐敗量の期待値\n",
    "for t in range_t:\n",
    "    if t >= m:\n",
    "        for i in range_i_:\n",
    "            problem += W[i][t] >= I[i][t-m+1] - pulp.lpSum(d_mu[i][a] for a in range(t-m+2, t+1)) \\\n",
    "            - pulp.lpSum(W[i][a] for a in range(t-m+2, t))\n",
    "    else:\n",
    "        for i in range_i_:\n",
    "            problem += W[i][t] == 0\n",
    "\n",
    "# (6)->(21)\n",
    "\n",
    "## related to routing\n",
    "# (7)\n",
    "# ある顧客の所に来る車両数と出る車両数が同じ\n",
    "for t in range_t:\n",
    "    for k in range_k:\n",
    "        for j in range_j_:\n",
    "            left = pulp.lpSum(X[i][j][k][t] if i != j else 0 for i in range_i)\n",
    "            right = pulp.lpSum(X[j][i][k][t] if i != j else 0 for i in range_i)\n",
    "            problem +=  left == right\n",
    "\n",
    "# (8)\n",
    "# 各顧客の場所に訪れるのは1台の車両で1度以下\n",
    "for t in range_t:\n",
    "    for k in range_k:\n",
    "        for i in range_i:\n",
    "            problem += pulp.lpSum(X[i][j][k][t] if i != j else 0 for j in range_j) <= 1\n",
    "\n",
    "# (9)\n",
    "# 顧客のところで配荷した分だけ，積荷量が減る\n",
    "for t in range_t:\n",
    "    for k in range_k:\n",
    "        for i in range_i_:\n",
    "            left = pulp.lpSum(F[i][j][k][t] if i != j else 0 for j in range_j)\n",
    "            right = pulp.lpSum(F[j][i][k][t] if i != j else 0 for j in range_j) - Q[i][k][t]\n",
    "            problem += left == right\n",
    "\n",
    "# (10)\n",
    "# 容量制限\n",
    "for t in range_t:\n",
    "    for k in range_k:\n",
    "        for i in range_i:\n",
    "            for j in range_j:\n",
    "                if i != j:\n",
    "                    left = F[i][j][k][t]\n",
    "                    right = c * X[j][i][k][t]\n",
    "                    problem += left <= right       \n",
    "                    \n",
    "# (21)\n",
    "# 各期間の終わりにおける在庫切れの確率に対するサービスレベルの制約\n",
    "for t in range_t:\n",
    "    for i in range_i_:\n",
    "        left = pulp.lpSum(Q[i][k][s] for s in range(1,t+1) for k in range_k) \\\n",
    "        - pulp.lpSum(W[i][s] for s in range(1,t))\n",
    "        problem += left >= right_of_const_21[i][t]"
   ]
  },
  {
   "cell_type": "markdown",
   "metadata": {},
   "source": [
    "# 最適化の実行"
   ]
  },
  {
   "cell_type": "code",
   "execution_count": 98,
   "metadata": {},
   "outputs": [],
   "source": [
    "### run\n",
    "from pulp import PULP_CBC_CMD\n",
    "t_start = time.time() \n",
    "result_status = problem.solve(solver=PULP_CBC_CMD())\n",
    "t_end = time.time() "
   ]
  },
  {
   "cell_type": "markdown",
   "metadata": {},
   "source": [
    "# 解の検証"
   ]
  },
  {
   "cell_type": "code",
   "execution_count": 99,
   "metadata": {},
   "outputs": [
    {
     "name": "stdout",
     "output_type": "stream",
     "text": [
      "最適性 = Optimal, 目的関数値 = 1309.7611774324428, 計算時間 = 24.172346830368042 (秒)\n"
     ]
    }
   ],
   "source": [
    "print(\"最適性 = {:}, 目的関数値 = {:}, 計算時間 = {:} (秒)\"\n",
    "      .format(pulp.LpStatus[result_status], pulp.value(problem.objective), t_end - t_start))"
   ]
  },
  {
   "cell_type": "markdown",
   "metadata": {},
   "source": [
    "# 解の提示"
   ]
  },
  {
   "cell_type": "code",
   "execution_count": 100,
   "metadata": {},
   "outputs": [
    {
     "name": "stdout",
     "output_type": "stream",
     "text": [
      "unit:€\n",
      "inventory_cost: 610.3413473999999\n",
      "waste_cost 696.3354126\n",
      "fuel_cost 3.0506674324427734\n",
      "driver_cost 0.03375\n",
      "cost: 1309.7611774324428\n"
     ]
    }
   ],
   "source": [
    "print(\"unit:€\")\n",
    "print(\"inventory_cost:\",pulp.value(inventory_cost))\n",
    "print(\"waste_cost\",pulp.value(waste_cost))\n",
    "print(\"fuel_cost\",pulp.value(fuel_cost))\n",
    "print(\"driver_cost\",pulp.value(driver_cost))\n",
    "print(\"cost:\", pulp.value(problem.objective))"
   ]
  },
  {
   "cell_type": "code",
   "execution_count": 101,
   "metadata": {
    "scrolled": true
   },
   "outputs": [
    {
     "name": "stdout",
     "output_type": "stream",
     "text": [
      "経路\n",
      "1\n",
      "1 2 0 1\n",
      "1 2 1 4\n",
      "1 2 2 0\n",
      "1 2 3 2\n",
      "1 2 4 3\n",
      "2\n",
      "2 3 0 1\n",
      "2 3 1 4\n",
      "2 3 2 0\n",
      "2 3 3 2\n",
      "2 3 4 3\n"
     ]
    }
   ],
   "source": [
    "print(\"経路\")\n",
    "for t in range_t:\n",
    "    print(t)\n",
    "    for k in range_k:\n",
    "        for i in range_i:\n",
    "            for j in range_j:\n",
    "                if pulp.value(X[i][j][k][t]) == 1:\n",
    "                    print(t, k, i, j)"
   ]
  },
  {
   "cell_type": "code",
   "execution_count": 102,
   "metadata": {
    "scrolled": true
   },
   "outputs": [
    {
     "name": "stdout",
     "output_type": "stream",
     "text": [
      "廃棄費\n",
      "1 388.822098\n",
      "2 258.167706\n",
      "3 49.3456086\n",
      "4 0.0\n"
     ]
    }
   ],
   "source": [
    "print(\"廃棄費\")\n",
    "for i in range_i:\n",
    "    if i != 0:\n",
    "        print(i, pulp.value(W[i][T])*p)"
   ]
  },
  {
   "cell_type": "code",
   "execution_count": 103,
   "metadata": {
    "scrolled": true
   },
   "outputs": [
    {
     "name": "stdout",
     "output_type": "stream",
     "text": [
      "在庫費\n",
      "1 33.7199574\n",
      "2 90.19776\n",
      "3 36.9785232\n",
      "4 176.95553399999997\n"
     ]
    }
   ],
   "source": [
    "print(\"在庫費\")\n",
    "for i in range_i:\n",
    "    if i != 0:\n",
    "        print(i, pulp.value(Ip[i][T])*h)"
   ]
  },
  {
   "cell_type": "code",
   "execution_count": null,
   "metadata": {},
   "outputs": [],
   "source": []
  }
 ],
 "metadata": {
  "kernelspec": {
   "display_name": "Python 3",
   "language": "python",
   "name": "python3"
  },
  "language_info": {
   "codemirror_mode": {
    "name": "ipython",
    "version": 3
   },
   "file_extension": ".py",
   "mimetype": "text/x-python",
   "name": "python",
   "nbconvert_exporter": "python",
   "pygments_lexer": "ipython3",
   "version": "3.6.9"
  },
  "toc": {
   "base_numbering": 1,
   "nav_menu": {},
   "number_sections": true,
   "sideBar": true,
   "skip_h1_title": false,
   "title_cell": "Table of Contents",
   "title_sidebar": "Contents",
   "toc_cell": false,
   "toc_position": {},
   "toc_section_display": true,
   "toc_window_display": true
  }
 },
 "nbformat": 4,
 "nbformat_minor": 2
}

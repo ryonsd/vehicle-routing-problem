{
 "cells": [
  {
   "cell_type": "code",
   "execution_count": 2,
   "metadata": {},
   "outputs": [],
   "source": [
    "import numpy as np\n",
    "import pandas as pd\n",
    "import pulp\n",
    "from scipy.spatial import distance_matrix\n",
    "import itertools\n",
    "import matplotlib.pyplot as plt\n",
    "%matplotlib inline "
   ]
  },
  {
   "cell_type": "code",
   "execution_count": 3,
   "metadata": {},
   "outputs": [
    {
     "data": {
      "text/html": [
       "<div>\n",
       "<style scoped>\n",
       "    .dataframe tbody tr th:only-of-type {\n",
       "        vertical-align: middle;\n",
       "    }\n",
       "\n",
       "    .dataframe tbody tr th {\n",
       "        vertical-align: top;\n",
       "    }\n",
       "\n",
       "    .dataframe thead th {\n",
       "        text-align: right;\n",
       "    }\n",
       "</style>\n",
       "<table border=\"1\" class=\"dataframe\">\n",
       "  <thead>\n",
       "    <tr style=\"text-align: right;\">\n",
       "      <th></th>\n",
       "      <th>x</th>\n",
       "      <th>y</th>\n",
       "      <th>demand</th>\n",
       "    </tr>\n",
       "  </thead>\n",
       "  <tbody>\n",
       "    <tr>\n",
       "      <td>0</td>\n",
       "      <td>50</td>\n",
       "      <td>50</td>\n",
       "      <td>0</td>\n",
       "    </tr>\n",
       "    <tr>\n",
       "      <td>1</td>\n",
       "      <td>43</td>\n",
       "      <td>4</td>\n",
       "      <td>15</td>\n",
       "    </tr>\n",
       "    <tr>\n",
       "      <td>2</td>\n",
       "      <td>5</td>\n",
       "      <td>11</td>\n",
       "      <td>9</td>\n",
       "    </tr>\n",
       "    <tr>\n",
       "      <td>3</td>\n",
       "      <td>54</td>\n",
       "      <td>81</td>\n",
       "      <td>7</td>\n",
       "    </tr>\n",
       "    <tr>\n",
       "      <td>4</td>\n",
       "      <td>62</td>\n",
       "      <td>3</td>\n",
       "      <td>9</td>\n",
       "    </tr>\n",
       "  </tbody>\n",
       "</table>\n",
       "</div>"
      ],
      "text/plain": [
       "    x   y  demand\n",
       "0  50  50       0\n",
       "1  43   4      15\n",
       "2   5  11       9\n",
       "3  54  81       7\n",
       "4  62   3       9"
      ]
     },
     "execution_count": 3,
     "metadata": {},
     "output_type": "execute_result"
    }
   ],
   "source": [
    "customer_count = 10 #顧客数（id=0はdepot）\n",
    "vehicle_count = 4 #車両数\n",
    "vehicle_capacity = 50 #車両容量\n",
    "\n",
    "np.random.seed(seed=32)\n",
    "\n",
    "#各顧客のx,y座標をDataFrameとして作成\n",
    "df = pd.DataFrame({\"x\":np.random.randint(0,100, customer_count), \n",
    "                   \"y\":np.random.randint(0, 100, customer_count), \n",
    "                   \"demand\":np.random.randint(5, 20, customer_count)})\n",
    "\n",
    "#id=0はdepotなので，demand=0にする\n",
    "df.iloc[0].x = 50\n",
    "df.iloc[0].y = 50\n",
    "df.iloc[0].demand = 0\n",
    "\n",
    "#コストとしてノード間の直線距離を求める\n",
    "cost = pd.DataFrame(distance_matrix(df.values, df.values), index=df.index, columns=df.index).values\n",
    "\n",
    "df.head()"
   ]
  },
  {
   "cell_type": "code",
   "execution_count": 4,
   "metadata": {},
   "outputs": [
    {
     "data": {
      "text/plain": [
       "(-10, 110)"
      ]
     },
     "execution_count": 4,
     "metadata": {},
     "output_type": "execute_result"
    },
    {
     "data": {
      "image/png": "[encoded data removed]",
      "text/plain": [
       "<Figure size 360x360 with 1 Axes>"
      ]
     },
     "metadata": {
      "needs_background": "light"
     },
     "output_type": "display_data"
    }
   ],
   "source": [
    "# depotと顧客の位置の可視化．添え字は荷物の量\n",
    "plt.figure(figsize=(5,5))\n",
    "for i in range(customer_count):    \n",
    "    if i == 0:\n",
    "        plt.scatter(df.x[i], df.y[i], c='r')\n",
    "        plt.text(df.x[i]+1, df.y[i]+1, \"depot\")\n",
    "    else:\n",
    "        plt.scatter(df.x[i], df.y[i], c='b')\n",
    "        plt.text(df.x[i]+1, df.y[i]+1, str(df.demand[i]))\n",
    "plt.xlim([-10, 110])\n",
    "plt.ylim([-10, 110])"
   ]
  },
  {
   "cell_type": "code",
   "execution_count": 5,
   "metadata": {},
   "outputs": [
    {
     "name": "stdout",
     "output_type": "stream",
     "text": [
      "車両数: 2\n",
      "目的関数値: 381.32599213503414\n"
     ]
    }
   ],
   "source": [
    "for vehicle_count in range(1,vehicle_count+1):\n",
    "    # 問題の宣言\n",
    "    problem = pulp.LpProblem(\"CVRP\", pulp.LpMinimize)\n",
    "\n",
    "    # 決定変数\n",
    "    x = [[[pulp.LpVariable(\"x%s_%s,%s\"%(i,j,k), cat=\"Binary\") if i != j else None for k in range(vehicle_count)]for j in range(customer_count)] for i in range(customer_count)]\n",
    "\n",
    "    # 目的関数\n",
    "    problem += pulp.lpSum(cost[i][j] * x[i][j][k] if i != j else 0\n",
    "                          for k in range(vehicle_count) for j in range(customer_count) for i in range (customer_count))\n",
    "\n",
    "    # 制約\n",
    "    # (2)式，各顧客の場所に訪れるのは1台の車両で1度である\n",
    "    for j in range(1, customer_count):\n",
    "        problem += pulp.lpSum(x[i][j][k] if i != j else 0 for i in range(customer_count) for k in range(vehicle_count)) == 1 \n",
    "\n",
    "    #(3)式, depotから出発して，depotに戻ってくる\n",
    "    for k in range(vehicle_count):\n",
    "        # デポを出発した運搬車が必ず 1つの顧客から訪問を開始することを保証する制約条件\n",
    "        problem += pulp.lpSum(x[0][j][k] for j in range(1,customer_count)) == 1\n",
    "        # 必ず 1 つの顧客から運搬車がデポへ到着すること保証する制約条件\n",
    "        problem += pulp.lpSum(x[i][0][k] for i in range(1,customer_count)) == 1\n",
    "\n",
    "    #(4)式, ある顧客の所に来る車両数と出る車両数が同じ\n",
    "    for k in range(vehicle_count):\n",
    "        for j in range(customer_count):\n",
    "            problem += pulp.lpSum(x[i][j][k] if i != j else 0 for i in range(customer_count)) -  pulp.lpSum(x[j][i][k] for i in range(customer_count)) == 0\n",
    "\n",
    "    #(5)式, 各車両において最大容量を超えない\n",
    "    for k in range(vehicle_count):\n",
    "        problem += pulp.lpSum(df.demand[j] * x[i][j][k] if i != j else 0 for i in range(customer_count) for j in range (1,customer_count)) <= vehicle_capacity \n",
    "\n",
    "\n",
    "    #(6)式, 部分巡回路除去制約\n",
    "    subtours = []\n",
    "    for i in range(2,customer_count):\n",
    "         subtours += itertools.combinations(range(1,customer_count), i)\n",
    "\n",
    "    for s in subtours:\n",
    "        problem += pulp.lpSum(x[i][j][k] if i !=j else 0 for i, j in itertools.permutations(s,2) for k in range(vehicle_count)) <= len(s) - 1\n",
    "\n",
    "    #最適化問題を解く\n",
    "    #最適解が出たら終了\n",
    "    if problem.solve() == 1:\n",
    "        print('車両数:', vehicle_count)\n",
    "        print('目的関数値:', pulp.value(problem.objective))\n",
    "        break"
   ]
  },
  {
   "cell_type": "code",
   "execution_count": 6,
   "metadata": {},
   "outputs": [
    {
     "data": {
      "image/png": "[encoded data removed]",
      "text/plain": [
       "<Figure size 360x360 with 1 Axes>"
      ]
     },
     "metadata": {
      "needs_background": "light"
     },
     "output_type": "display_data"
    }
   ],
   "source": [
    "plt.figure(figsize=(5,5))\n",
    "for i in range(customer_count):    \n",
    "    if i == 0:\n",
    "        plt.scatter(df.x[i], df.y[i], c='r')\n",
    "        plt.text(df.x[i]+1, df.y[i]+1, str(i)+\",depot\")\n",
    "    else:\n",
    "        plt.scatter(df.x[i], df.y[i], c='b')\n",
    "        plt.text(df.x[i]+1, df.y[i]+1, str(i)+\"(\"+str(df.demand[i])+\")\")\n",
    "plt.xlim([-10, 110])\n",
    "plt.ylim([-10, 110])\n",
    "\n",
    "for k in range(vehicle_count):\n",
    "    for i in range(customer_count):\n",
    "        for j in range(customer_count):\n",
    "            if i != j and pulp.value(x[i][j][k]) == 1:\n",
    "                plt.plot([df.x[i], df.x[j]], [df.y[i], df.y[j]], c=\"black\")"
   ]
  },
  {
   "cell_type": "code",
   "execution_count": null,
   "metadata": {},
   "outputs": [],
   "source": []
  }
 ],
 "metadata": {
  "kernelspec": {
   "display_name": "Python 3",
   "language": "python",
   "name": "python3"
  },
  "language_info": {
   "codemirror_mode": {
    "name": "ipython",
    "version": 3
   },
   "file_extension": ".py",
   "mimetype": "text/x-python",
   "name": "python",
   "nbconvert_exporter": "python",
   "pygments_lexer": "ipython3",
   "version": "3.6.9"
  },
  "toc": {
   "base_numbering": 1,
   "nav_menu": {},
   "number_sections": true,
   "sideBar": true,
   "skip_h1_title": false,
   "title_cell": "Table of Contents",
   "title_sidebar": "Contents",
   "toc_cell": false,
   "toc_position": {},
   "toc_section_display": true,
   "toc_window_display": false
  }
 },
 "nbformat": 4,
 "nbformat_minor": 2
}
